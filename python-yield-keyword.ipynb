{
 "cells": [
  {
   "cell_type": "markdown",
   "metadata": {},
   "source": [
    "## Of lists and other iterables"
   ]
  },
  {
   "cell_type": "markdown",
   "metadata": {},
   "source": [
    "Once upon a time there was a Python list, called lyst. Lyst was a useful little data structure because, as is the case with all lists, one could read through it's elements one by one. Reading through the elements of a list one by one is called **iteration**, and the list is called **an iterable**.\n",
    "\n",
    "A list has the following characteristics:  \n",
    "1. It is stored in memory\n",
    "2. It can be iterated over as many times as needed"
   ]
  },
  {
   "cell_type": "code",
   "execution_count": 5,
   "metadata": {
    "collapsed": false
   },
   "outputs": [
    {
     "name": "stdout",
     "output_type": "stream",
     "text": [
      "1\n",
      "2\n",
      "3\n",
      "4\n",
      "5\n"
     ]
    }
   ],
   "source": [
    "lyst = [1,2,3,4,5]\n",
    "for elem in lyst:\n",
    "    print elem"
   ]
  },
  {
   "cell_type": "markdown",
   "metadata": {},
   "source": [
    "In fact, every data structure that you can use a _for_ loop on is an iterable. Other examples of iterables in Python, besides lists, are sets, ranges, dictionaries, and generators."
   ]
  },
  {
   "cell_type": "markdown",
   "metadata": {},
   "source": [
    "## Generators"
   ]
  },
  {
   "cell_type": "markdown",
   "metadata": {},
   "source": [
    "Generators are a type of iterable as well. However, a generator is different from a list in **two very important ways**:  \n",
    "\n",
    "1. It generates numbers on the fly, which are not stored in memory\n",
    "2. It can only be iterated over once."
   ]
  },
  {
   "cell_type": "code",
   "execution_count": 9,
   "metadata": {
    "collapsed": false
   },
   "outputs": [
    {
     "name": "stdout",
     "output_type": "stream",
     "text": [
      "1\n",
      "2\n",
      "3\n",
      "4\n",
      "5\n"
     ]
    }
   ],
   "source": [
    "def makeGenerator():\n",
    "    lyst = range(1,6)\n",
    "    for elem in lyst:\n",
    "        yield elem\n",
    "\n",
    "# create a new generator object\n",
    "newgenerator = makeGenerator()\n",
    "\n",
    "for elem in newgenerator:\n",
    "    print elem"
   ]
  },
  {
   "cell_type": "markdown",
   "metadata": {},
   "source": [
    "## What Happens Inside A Generator\n",
    "\n",
    "An important thing to note is that the code inside makeGenerator() **does not run when newgenerator is created**. Instead, when the for-loop over the newgenerator runs for the first time, the code inside makeGenerator() runs from beginning to end. For all subsequent iterations over newgenerator, only the for-loop inside makeGenerator() will run, returning the next element, until it reaches the end of lyst."
   ]
  },
  {
   "cell_type": "markdown",
   "metadata": {},
   "source": [
    "## The 'yield' Keyword\n",
    "\n",
    "The 'yield' keyword performs the same function as 'return', but can only be used with a generator. In other words, without 'yield' in makeGenerator(), creating newgenerator would not be possible."
   ]
  }
 ],
 "metadata": {
  "kernelspec": {
   "display_name": "Python 2",
   "language": "python",
   "name": "python2"
  },
  "language_info": {
   "codemirror_mode": {
    "name": "ipython",
    "version": 2
   },
   "file_extension": ".py",
   "mimetype": "text/x-python",
   "name": "python",
   "nbconvert_exporter": "python",
   "pygments_lexer": "ipython2",
   "version": "2.7.12"
  }
 },
 "nbformat": 4,
 "nbformat_minor": 1
}
