{
 "cells": [
  {
   "cell_type": "markdown",
   "metadata": {},
   "source": [
    "## Markdown"
   ]
  },
  {
   "cell_type": "markdown",
   "metadata": {},
   "source": [
    "### Italics and Bold"
   ]
  },
  {
   "cell_type": "markdown",
   "metadata": {},
   "source": [
    "To make things _italic,_ simply add an underscore before and after the word or phrase you want to format."
   ]
  },
  {
   "cell_type": "markdown",
   "metadata": {},
   "source": [
    "_This text is italic._"
   ]
  },
  {
   "cell_type": "markdown",
   "metadata": {},
   "source": [
    "To make things **bold**, simply add two asterisks before and after the word or phrase you want to format."
   ]
  },
  {
   "cell_type": "markdown",
   "metadata": {},
   "source": [
    "**This text is bold.**"
   ]
  },
  {
   "cell_type": "markdown",
   "metadata": {},
   "source": [
    "To make things both **_italic and bold_**, add two asterisks and an underscore before and after the word of phrase you want to format."
   ]
  },
  {
   "cell_type": "markdown",
   "metadata": {},
   "source": [
    "**_This text is both italic and bold._**"
   ]
  },
  {
   "cell_type": "markdown",
   "metadata": {},
   "source": [
    "### Headers "
   ]
  },
  {
   "cell_type": "markdown",
   "metadata": {},
   "source": [
    "There are six headers in Markdown, 1-6. You can format a header by putting the same number of hashes in front of it as the size of the header you want. For instance, header one with have only one hash in front of it, header two will have two hashes, as so on.\n",
    "\n",
    "# Header One\n",
    "## Header Two\n",
    "### Header Three\n",
    "#### Header Four\n",
    "##### Header Five\n",
    "###### Header Six\n",
    "\n",
    "In a Jupyter notebook, you can change a cell to a header by entering command-mode, and pressing any key from 1-6 depending on your desired header size."
   ]
  },
  {
   "cell_type": "markdown",
   "metadata": {},
   "source": [
    "# Header One\n",
    "## Header Two\n",
    "### Header Three\n",
    "#### Header Four\n",
    "##### Header Five\n",
    "###### Header Six"
   ]
  },
  {
   "cell_type": "markdown",
   "metadata": {},
   "source": [
    "### Links"
   ]
  },
  {
   "cell_type": "markdown",
   "metadata": {},
   "source": [
    "#### Inline links"
   ]
  },
  {
   "cell_type": "markdown",
   "metadata": {},
   "source": [
    "To hyperlink a word or phrase, enclose it in square brackets, and follow the closing bracket with the complete URL you want to link to, enclosed in round parentheses, like this:\n",
    "\n",
    "[Go Google this!](www.google.com)"
   ]
  },
  {
   "cell_type": "markdown",
   "metadata": {},
   "source": [
    "[Go Google this!](www.google.com)"
   ]
  },
  {
   "cell_type": "markdown",
   "metadata": {},
   "source": [
    "You can also add emphasis to a hyperlinked phrase. For example:\n",
    "    \n",
    "    [Click this **only** if you want to waste the rest of your day.](www.reddit.com)"
   ]
  },
  {
   "cell_type": "markdown",
   "metadata": {},
   "source": [
    "[Click this **only** if you want to waste the rest of your day.](www.reddit.com)"
   ]
  },
  {
   "cell_type": "markdown",
   "metadata": {},
   "source": [
    "#### Reference links"
   ]
  },
  {
   "cell_type": "markdown",
   "metadata": {},
   "source": [
    "Let's imagine you write a blog post about how much you love Coke, and then include links to www.coca-cola.com in several places throughout your text. Not only is it a bit boring to have to duplicate the same URL over and over again, but what if you decide one day that you actually prefer Pepsi, and want to change your blog post to endorse and link to your new favorite drink? You could find-and-replace, or you could use _reference links._\n",
    "\n",
    "For example:\n",
    "\n",
    "I love [this beverage][my favorite drink]!\n",
    "Wow, [this drink][my favorite drink] is awesome!\n",
    "Oh boy, [this soda][my favorite drink] is the best!\n",
    "\n",
    "[my favorite drink]: www.coca-cola.com"
   ]
  },
  {
   "cell_type": "markdown",
   "metadata": {},
   "source": [
    "I love [this beverage][my favorite drink]!\n",
    "Wow, [this drink][my favorite drink] is awesome!\n",
    "Oh boy, [this soda][my favorite drink] is the best!\n",
    "\n",
    "[my favorite drink]: www.coca-cola.com"
   ]
  },
  {
   "cell_type": "markdown",
   "metadata": {},
   "source": [
    "Now, when your favorite drink changes, you only need to make the change in one place:\n",
    "\n",
    "I love [this beverage][my favorite drink]!\n",
    "Wow, [this drink][my favorite drink] is awesome!\n",
    "Oh boy, [this soda][my favorite drink] is the best!\n",
    "\n",
    "[my favorite drink]: www.pepsi.com"
   ]
  },
  {
   "cell_type": "markdown",
   "metadata": {},
   "source": [
    "I love [this beverage][my favorite drink]!\n",
    "Wow, [this drink][my favorite drink] is awesome!\n",
    "Oh boy, [this soda][my favorite drink] is the best!\n",
    "\n",
    "[my favorite drink]: www.pepsi.com"
   ]
  },
  {
   "cell_type": "markdown",
   "metadata": {},
   "source": [
    "#### Images"
   ]
  },
  {
   "cell_type": "markdown",
   "metadata": {},
   "source": [
    "Creating images in Markdown is just as easy as creating links. Like links, images can be **inline** or **reference**. \n",
    "\n",
    "To create an **inline** image, just include an exclamation point (!) before the regular link syntax, and make sure the link points to the picture you want to show. That's it! \n",
    "\n",
    "![Om nom nom](https://upload.wikimedia.org/wikipedia/commons/c/c5/Tamias_striatus2.jpg)"
   ]
  },
  {
   "cell_type": "markdown",
   "metadata": {},
   "source": [
    "This is a chipmunk.![Om nom nom](https://upload.wikimedia.org/wikipedia/commons/c/c5/Tamias_striatus2.jpg)"
   ]
  },
  {
   "cell_type": "markdown",
   "metadata": {},
   "source": [
    "To create a **reference** image, use the same syntax as for reference links, preceded by an exclamation point.\n",
    "\n",
    "![The first chipmunk.][First Chipmunk]\n",
    "\n",
    "![The second chipmunk.][Second Chipmunk]\n",
    "\n",
    "[First Chipmunk]: https://upload.wikimedia.org/wikipedia/commons/c/c5/Tamias_striatus2.jpg\n",
    "\n",
    "[Second Chipmunk]: https://upload.wikimedia.org/wikipedia/commons/f/f7/Tamia_striatus_eating.jpg"
   ]
  },
  {
   "cell_type": "markdown",
   "metadata": {},
   "source": [
    "![The first chipmunk.][First Chipmunk]\n",
    "\n",
    "![The second chipmunk.][Second Chipmunk]\n",
    "\n",
    "[First Chipmunk]: https://upload.wikimedia.org/wikipedia/commons/c/c5/Tamias_striatus2.jpg\n",
    "\n",
    "[Second Chipmunk]: https://upload.wikimedia.org/wikipedia/commons/f/f7/Tamia_striatus_eating.jpg"
   ]
  },
  {
   "cell_type": "markdown",
   "metadata": {},
   "source": [
    "#### Blockquotes"
   ]
  },
  {
   "cell_type": "markdown",
   "metadata": {},
   "source": [
    "To create a blockquote in markdown, just include your desired text, with or without quotation marks, and precede it with a \"greater than\" caret (>). If your blockquote consists of multiple paragraphs, make sure to include a caret (>) before every paragraph, as well as before every blank line.\n",
    "\n",
    "Wise words...\n",
    "\n",
    "> \"In business, as in life, you do not get what you deserve. You get what you negotiate.\""
   ]
  },
  {
   "cell_type": "markdown",
   "metadata": {},
   "source": [
    "Wise words...\n",
    "\n",
    "> \"In business, as in life, you do not get what you deserve. You get what you negotiate.\""
   ]
  },
  {
   "cell_type": "markdown",
   "metadata": {},
   "source": [
    "#### Lists"
   ]
  },
  {
   "cell_type": "markdown",
   "metadata": {},
   "source": [
    "There are two types of lists: _ordered_ and _unordered._ An _ordered_ list will have numbers. An _unordered_ list will have bullet points.\n",
    "\n",
    "To create an _unordered_ list, type each element on its own separate line, and precede it with an asterisk (*), like this:\n",
    "\n",
    "* paper clips\n",
    "* staples\n",
    "* notebooks"
   ]
  },
  {
   "cell_type": "markdown",
   "metadata": {},
   "source": [
    "* paper clips\n",
    "* staples\n",
    "* notebooks"
   ]
  },
  {
   "cell_type": "markdown",
   "metadata": {},
   "source": [
    "To create an _ordered_ list, simply precede each line item with a number, like this:\n",
    "\n",
    "1. First item\n",
    "2. Second item\n",
    "3. Third item"
   ]
  },
  {
   "cell_type": "markdown",
   "metadata": {},
   "source": [
    "1. First item\n",
    "2. Second item\n",
    "3. Third item"
   ]
  },
  {
   "cell_type": "markdown",
   "metadata": {},
   "source": [
    "To create a nested list, simply indent each line item the way you'd like to see it nested, and Markdown will do the rest.\n",
    "\n",
    "* Apple\n",
    " * Sweet\n",
    " * Red\n",
    " * Shiny\n",
    "* Orange\n",
    " * Acidic\n",
    " * Orange\n",
    " * Smells nice"
   ]
  },
  {
   "cell_type": "markdown",
   "metadata": {},
   "source": [
    "* Apple\n",
    " * Sweet\n",
    " * Red\n",
    " * Shiny\n",
    "* Orange\n",
    " * Acidic\n",
    " * Orange\n",
    " * Smells nice"
   ]
  },
  {
   "cell_type": "markdown",
   "metadata": {},
   "source": [
    "To include more detail within a list in paragraph form (i.e., not nested), leave a blank line between the list item and the start of your explanation, and indent the explanation line by at least one space.\n",
    "\n",
    "1. This is the first item of my list.\n",
    "\n",
    "     It's a pretty good one, as list items go.\n",
    "\n",
    "2. This is the second item of my list.\n",
    "\n",
    "    This item has a couple of quirks to it:\n",
    "    \n",
    "    * Quirk number 1\n",
    "    * Quirk number 2\n",
    "    "
   ]
  },
  {
   "cell_type": "markdown",
   "metadata": {},
   "source": [
    "1. This is the first item of my list.\n",
    "\n",
    " It's a pretty good one, as list items go.\n",
    "\n",
    "\n",
    "2. This is the second item of my list.\n",
    "\n",
    "    This item has a couple of quirks to it:\n",
    "    \n",
    "    * Quirk number 1\n",
    "    * Quirk number 2"
   ]
  },
  {
   "cell_type": "markdown",
   "metadata": {},
   "source": [
    "#### Paragraphs"
   ]
  },
  {
   "cell_type": "markdown",
   "metadata": {},
   "source": [
    "To render a single line of text on multiple lines, you can use two types of breaks:\n",
    "\n",
    "1. A **hard break** - this is simply inserting a new line to break up the text, like we did in the previous list example.\n",
    "2. A **soft break** - this consists of inserting two space characters where you want the line to end.\n",
    "\n",
    "Here is an example of a **hard break**:\n",
    "\n",
    "\"This line is broken\n",
    "\n",
    "with a hard break.\"\n",
    "\n",
    "And here is an example of a **soft break**:\n",
    "\n",
    "\"This line is broken  \n",
    "with a soft break.\""
   ]
  },
  {
   "cell_type": "markdown",
   "metadata": {},
   "source": [
    "Here is an example of a **hard break**:\n",
    "\n",
    "\"This line is broken\n",
    "\n",
    "with a hard break.\"\n",
    "\n",
    "And here is an example of a **soft break**:\n",
    "\n",
    "\"This line is broken  \n",
    "with a soft break.\""
   ]
  }
 ],
 "metadata": {
  "kernelspec": {
   "display_name": "Python 2",
   "language": "python",
   "name": "python2"
  },
  "language_info": {
   "codemirror_mode": {
    "name": "ipython",
    "version": 2
   },
   "file_extension": ".py",
   "mimetype": "text/x-python",
   "name": "python",
   "nbconvert_exporter": "python",
   "pygments_lexer": "ipython2",
   "version": "2.7.12"
  }
 },
 "nbformat": 4,
 "nbformat_minor": 1
}
